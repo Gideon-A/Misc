{
 "cells": [
  {
   "cell_type": "code",
   "execution_count": 10,
   "id": "6bc2a5db",
   "metadata": {},
   "outputs": [],
   "source": [
    "def sampleSize(\n",
    "    population_size,\n",
    "    margin_error=.01,\n",
    "    confidence_level=.99,\n",
    "    sigma=1/2\n",
    "):\n",
    "    \"\"\"\n",
    "    Calculate the minimal sample size to use to achieve a certain\n",
    "    margin of error and confidence level for a sample estimate\n",
    "    of the population mean.\n",
    "\n",
    "    Inputs\n",
    "    -------\n",
    "    population_size: integer\n",
    "        Total size of the population that the sample is to be drawn from.\n",
    "\n",
    "    margin_error: number\n",
    "        Maximum expected difference between the true population parameter,\n",
    "        such as the mean, and the sample estimate.\n",
    "\n",
    "    confidence_level: number in the interval (0, 1)\n",
    "        If we were to draw a large number of equal-size samples\n",
    "        from the population, the true population parameter\n",
    "        should lie within this percentage\n",
    "        of the intervals (sample_parameter - e, sample_parameter + e)\n",
    "        where e is the margin_error.\n",
    "\n",
    "    sigma: number\n",
    "        The standard deviation of the population.  For the case\n",
    "        of estimating a parameter in the interval [0, 1], sigma=1/2\n",
    "        should be sufficient.\n",
    "\n",
    "    \"\"\"\n",
    "    alpha = 1 - (confidence_level)\n",
    "    # dictionary of confidence levels and corresponding z-scores\n",
    "    # computed via norm.ppf(1 - (alpha/2)), where norm is\n",
    "    # a normal distribution object in scipy.stats.\n",
    "    # Here, ppf is the percentile point function.\n",
    "    zdict = {\n",
    "        .90: 1.645,\n",
    "        .91: 1.695,\n",
    "        .99: 2.576,\n",
    "        .97: 2.17,\n",
    "        .94: 1.881,\n",
    "        .93: 1.812,\n",
    "        .95: 1.96,\n",
    "        .98: 2.326,\n",
    "        .96: 2.054,\n",
    "        .92: 1.751\n",
    "    }\n",
    "    if confidence_level in zdict:\n",
    "        z = zdict[confidence_level]\n",
    "    else:\n",
    "        from scipy.stats import norm\n",
    "        z = norm.ppf(1 - (alpha/2))\n",
    "    N = population_size\n",
    "    M = margin_error\n",
    "    numerator = z**2 * sigma**2 * (N / (N-1))\n",
    "    denom = M**2 + ((z**2 * sigma**2)/(N-1))\n",
    "    return numerator/denom"
   ]
  },
  {
   "cell_type": "code",
   "execution_count": 11,
   "id": "2b21406b",
   "metadata": {},
   "outputs": [
    {
     "data": {
      "text/plain": [
       "2235.8715406072465"
      ]
     },
     "execution_count": 11,
     "metadata": {},
     "output_type": "execute_result"
    }
   ],
   "source": [
    "sampleSize(2584)"
   ]
  },
  {
   "cell_type": "code",
   "execution_count": null,
   "id": "39959bc1",
   "metadata": {},
   "outputs": [],
   "source": []
  }
 ],
 "metadata": {
  "kernelspec": {
   "display_name": "Python 3",
   "language": "python",
   "name": "python3"
  },
  "language_info": {
   "codemirror_mode": {
    "name": "ipython",
    "version": 3
   },
   "file_extension": ".py",
   "mimetype": "text/x-python",
   "name": "python",
   "nbconvert_exporter": "python",
   "pygments_lexer": "ipython3",
   "version": "3.8.8"
  }
 },
 "nbformat": 4,
 "nbformat_minor": 5
}
